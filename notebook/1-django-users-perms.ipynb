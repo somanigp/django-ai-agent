{
 "cells": [
  {
   "cell_type": "code",
   "execution_count": 2,
   "id": "32a9b923",
   "metadata": {},
   "outputs": [],
   "source": [
    "import setup \n",
    "setup.init()"
   ]
  },
  {
   "cell_type": "code",
   "execution_count": 3,
   "id": "68f37753",
   "metadata": {},
   "outputs": [
    {
     "data": {
      "text/plain": [
       "<QuerySet [<User: somanigp>, <User: staff>]>"
      ]
     },
     "execution_count": 3,
     "metadata": {},
     "output_type": "execute_result"
    }
   ],
   "source": [
    "from django.contrib.auth import get_user_model # auth is for user models provided by django\n",
    "\n",
    "User = get_user_model()  # fetching user model\n",
    "\n",
    "User.objects.all()  # Listing all users"
   ]
  },
  {
   "cell_type": "code",
   "execution_count": null,
   "id": "632b4247",
   "metadata": {},
   "outputs": [
    {
     "data": {
      "text/plain": [
       "<User: staff>"
      ]
     },
     "execution_count": 4,
     "metadata": {},
     "output_type": "execute_result"
    }
   ],
   "source": [
    "user_obj = User(\n",
    "    username=\"staff\"\n",
    ")  # Creating an instance of User Class definded above (User Model), it is not saved in DB yet\n",
    "user_obj"
   ]
  },
  {
   "cell_type": "code",
   "execution_count": null,
   "id": "55187273",
   "metadata": {},
   "outputs": [],
   "source": [
    "user_obj.save() # Default save method\n",
    "# We can create a methode to create custom pre save and post save methods."
   ]
  },
  {
   "cell_type": "code",
   "execution_count": null,
   "id": "fd863d6b",
   "metadata": {},
   "outputs": [
    {
     "data": {
      "text/plain": [
       "<QuerySet [<Document: Document: First Doc>, <Document: Document: Hellow World!!>]>"
      ]
     },
     "execution_count": 6,
     "metadata": {},
     "output_type": "execute_result"
    }
   ],
   "source": [
    "from documents.models import Document\n",
    "Document.objects.all()  # Own model list all objects"
   ]
  },
  {
   "cell_type": "code",
   "execution_count": null,
   "id": "11cf4117",
   "metadata": {},
   "outputs": [],
   "source": [
    "\n",
    "doc_obj = Document(\n",
    "    owner=user_obj,  # Needs to be an user class object which is user_obj here\n",
    "    title=\"Hellow World!!\"\n",
    ")\n",
    "doc_obj"
   ]
  },
  {
   "cell_type": "code",
   "execution_count": 7,
   "id": "39acdb14",
   "metadata": {},
   "outputs": [],
   "source": [
    "doc_obj.save() # Pre save actions happen here"
   ]
  },
  {
   "cell_type": "code",
   "execution_count": 10,
   "id": "54f5bca1",
   "metadata": {},
   "outputs": [
    {
     "data": {
      "text/plain": [
       "<Document: Document object (2)>"
      ]
     },
     "execution_count": 10,
     "metadata": {},
     "output_type": "execute_result"
    }
   ],
   "source": [
    "doc_obj  # <Document: Document object (2)>. This is from default str method, and we can customize this too."
   ]
  }
 ],
 "metadata": {
  "kernelspec": {
   "display_name": "venv",
   "language": "python",
   "name": "python3"
  },
  "language_info": {
   "codemirror_mode": {
    "name": "ipython",
    "version": 3
   },
   "file_extension": ".py",
   "mimetype": "text/x-python",
   "name": "python",
   "nbconvert_exporter": "python",
   "pygments_lexer": "ipython3",
   "version": "3.13.7"
  }
 },
 "nbformat": 4,
 "nbformat_minor": 5
}
