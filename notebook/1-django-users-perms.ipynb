{
 "cells": [
  {
   "cell_type": "code",
   "execution_count": 1,
   "id": "32a9b923",
   "metadata": {},
   "outputs": [],
   "source": [
    "import setup \n",
    "setup.init()"
   ]
  },
  {
   "cell_type": "code",
   "execution_count": 2,
   "id": "68f37753",
   "metadata": {},
   "outputs": [
    {
     "data": {
      "text/plain": [
       "<QuerySet [<User: somanigp>, <User: staff>]>"
      ]
     },
     "execution_count": 2,
     "metadata": {},
     "output_type": "execute_result"
    }
   ],
   "source": [
    "from django.contrib.auth import get_user_model # auth is for user models provided by django\n",
    "\n",
    "User = get_user_model()  # fetching user model\n",
    "\n",
    "User.objects.all()  # Listing all users"
   ]
  },
  {
   "cell_type": "code",
   "execution_count": 14,
   "id": "632b4247",
   "metadata": {},
   "outputs": [
    {
     "data": {
      "text/plain": [
       "<User: staff>"
      ]
     },
     "execution_count": 14,
     "metadata": {},
     "output_type": "execute_result"
    }
   ],
   "source": [
    "user_obj = User(\n",
    "    username=\"staff\"\n",
    ")  # Creating an instance of User Class definded above (User Model), it is not saved in DB yet\n",
    "user_obj"
   ]
  },
  {
   "cell_type": "code",
   "execution_count": 15,
   "id": "55187273",
   "metadata": {},
   "outputs": [],
   "source": [
    "user_obj.save() # Default save method : create or updae\n",
    "# We can create a methode to create custom pre save and post save methods."
   ]
  },
  {
   "cell_type": "code",
   "execution_count": 3,
   "id": "fd863d6b",
   "metadata": {},
   "outputs": [
    {
     "data": {
      "text/plain": [
       "<QuerySet [<Document: First Doc>, <Document: Hellow World!!>]>"
      ]
     },
     "execution_count": 3,
     "metadata": {},
     "output_type": "execute_result"
    }
   ],
   "source": [
    "from documents.models import Document\n",
    "Document.objects.all()  # Own model list all objects"
   ]
  },
  {
   "cell_type": "code",
   "execution_count": 16,
   "id": "11cf4117",
   "metadata": {},
   "outputs": [
    {
     "data": {
      "text/plain": [
       "<Document: Hellow World!!>"
      ]
     },
     "execution_count": 16,
     "metadata": {},
     "output_type": "execute_result"
    }
   ],
   "source": [
    "\n",
    "doc_obj = Document(\n",
    "    owner=user_obj,  # Needs to be an user class object which is user_obj here\n",
    "    title=\"Hellow World!!\"\n",
    ")\n",
    "doc_obj"
   ]
  },
  {
   "cell_type": "code",
   "execution_count": 17,
   "id": "39acdb14",
   "metadata": {},
   "outputs": [],
   "source": [
    "doc_obj.save() # Pre save actions happen here"
   ]
  },
  {
   "cell_type": "code",
   "execution_count": 18,
   "id": "54f5bca1",
   "metadata": {},
   "outputs": [
    {
     "data": {
      "text/plain": [
       "<Document: Hellow World!!>"
      ]
     },
     "execution_count": 18,
     "metadata": {},
     "output_type": "execute_result"
    }
   ],
   "source": [
    "doc_obj  # <Document: Document object (2)>. This is from default str method, and we can customize this too."
   ]
  },
  {
   "cell_type": "code",
   "execution_count": 19,
   "id": "c00b06d3",
   "metadata": {},
   "outputs": [
    {
     "name": "stdout",
     "output_type": "stream",
     "text": [
      "staff\n"
     ]
    },
    {
     "data": {
      "text/plain": [
       "3"
      ]
     },
     "execution_count": 19,
     "metadata": {},
     "output_type": "execute_result"
    }
   ],
   "source": [
    "# user_obj = User.objects.first()  # Fetching first user object\n",
    "user_obj = User.objects.last()  # Fetching last user object or can do : .get(id=2)\n",
    "print(user_obj)\n",
    "user_obj.id"
   ]
  },
  {
   "cell_type": "code",
   "execution_count": null,
   "id": "a368bce5",
   "metadata": {},
   "outputs": [
    {
     "data": {
      "text/plain": [
       "(4, {'documents.Document': 3, 'auth.User': 1})"
      ]
     },
     "execution_count": 13,
     "metadata": {},
     "output_type": "execute_result"
    }
   ],
   "source": [
    "user_obj.delete() # Deleting user, this will also delete all documents owned by this user because of CASCADE delete rule defined in models.py. Note it doesnt need save - directly runs on DB"
   ]
  },
  {
   "cell_type": "code",
   "execution_count": 21,
   "id": "3c61f0fb",
   "metadata": {},
   "outputs": [
    {
     "data": {
      "text/plain": [
       "<Document: Second Document>"
      ]
     },
     "execution_count": 21,
     "metadata": {},
     "output_type": "execute_result"
    }
   ],
   "source": [
    "# Document.objects.create(owner=user_obj)\n",
    "Document.objects.create(owner_id=3, title=\"Second Document\") # This also saves the object directly"
   ]
  },
  {
   "cell_type": "code",
   "execution_count": 26,
   "id": "9621a0db",
   "metadata": {},
   "outputs": [
    {
     "data": {
      "text/plain": [
       "<User: Aman>"
      ]
     },
     "execution_count": 26,
     "metadata": {},
     "output_type": "execute_result"
    }
   ],
   "source": [
    "# user_obj = User.objects.create(\n",
    "#     username=\"Aman\"\n",
    "# )\n",
    "user_obj = User.objects.get(\n",
    "    username=\"Aman\"\n",
    ")\n",
    "user_obj"
   ]
  },
  {
   "cell_type": "code",
   "execution_count": 25,
   "id": "1aa22563",
   "metadata": {},
   "outputs": [],
   "source": [
    "# help(User) # Displaying help for the User model"
   ]
  },
  {
   "cell_type": "code",
   "execution_count": null,
   "id": "04f1082a",
   "metadata": {},
   "outputs": [],
   "source": [
    "user_obj.is_staff = True  # Can login to admin or not - staff role\n",
    "user_obj.save()"
   ]
  },
  {
   "cell_type": "code",
   "execution_count": null,
   "id": "3e29ff58",
   "metadata": {},
   "outputs": [],
   "source": [
    "# Use django form or html form or api request\n",
    "user_obj.set_password(\"password123\") # This will hash the password and set it\n",
    "user_obj.save()"
   ]
  }
 ],
 "metadata": {
  "kernelspec": {
   "display_name": "venv",
   "language": "python",
   "name": "python3"
  },
  "language_info": {
   "codemirror_mode": {
    "name": "ipython",
    "version": 3
   },
   "file_extension": ".py",
   "mimetype": "text/x-python",
   "name": "python",
   "nbconvert_exporter": "python",
   "pygments_lexer": "ipython3",
   "version": "3.13.7"
  }
 },
 "nbformat": 4,
 "nbformat_minor": 5
}
