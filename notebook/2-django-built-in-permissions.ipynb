{
 "cells": [
  {
   "cell_type": "code",
   "execution_count": 2,
   "id": "146d25a6",
   "metadata": {},
   "outputs": [
    {
     "data": {
      "text/plain": [
       "<QuerySet [<User: somanigp>, <User: staff>, <User: Aman>]>"
      ]
     },
     "execution_count": 2,
     "metadata": {},
     "output_type": "execute_result"
    }
   ],
   "source": [
    "import setup \n",
    "setup.init()\n",
    "\n",
    "from django.contrib.auth import get_user_model \n",
    "User = get_user_model()  \n",
    "\n",
    "User.objects.all()  # List all users in the DB"
   ]
  },
  {
   "cell_type": "code",
   "execution_count": null,
   "id": "9d9ce2d8",
   "metadata": {},
   "outputs": [
    {
     "data": {
      "text/plain": [
       "<User: somanigp>"
      ]
     },
     "execution_count": 5,
     "metadata": {},
     "output_type": "execute_result"
    }
   ],
   "source": [
    "# superuser = admin\n",
    "# python manage.py createsuperuser\n",
    "# User.objects.create_superuser('admin', 'admin@example.com', 'password')\n",
    "super_user = User.objects.filter(is_superuser=True).first()  # Fields : date_joined, document, email, first_name, groups, id, is_active, is_staff, is_superuser, last_login, last_name, logentry, password, user_permissions, username. \n",
    "# **Can put wrong options in filters to see available fields\n",
    "super_user"
   ]
  },
  {
   "cell_type": "code",
   "execution_count": null,
   "id": "9f06322d",
   "metadata": {},
   "outputs": [
    {
     "data": {
      "text/plain": [
       "<QuerySet []>"
      ]
     },
     "execution_count": 6,
     "metadata": {},
     "output_type": "execute_result"
    }
   ],
   "source": [
    "super_user.user_permissions.all()  # List all permissions of the user"
   ]
  },
  {
   "cell_type": "code",
   "execution_count": null,
   "id": "9780f168",
   "metadata": {},
   "outputs": [
    {
     "data": {
      "text/plain": [
       "<QuerySet []>"
      ]
     },
     "execution_count": 9,
     "metadata": {},
     "output_type": "execute_result"
    }
   ],
   "source": [
    "staff_user = User.objects.filter(is_superuser=False, is_staff=True).first()\n",
    "staff_user.user_permissions.all()  # By default, users have no permissions"
   ]
  },
  {
   "cell_type": "code",
   "execution_count": null,
   "id": "b973d93f",
   "metadata": {},
   "outputs": [
    {
     "name": "stdout",
     "output_type": "stream",
     "text": [
      "<QuerySet [<Permission: Administration | log entry | Can view log entry>, <Permission: Authentication and Authorization | group | Can view group>, <Permission: Authentication and Authorization | permission | Can view permission>, <Permission: Authentication and Authorization | user | Can view user>, <Permission: Content Types | content type | Can view content type>, <Permission: Documents | document | Can view document>, <Permission: Sessions | session | Can view session>]> <class 'django.db.models.query.QuerySet'>\n",
      "view_logentry\n",
      "view_group\n",
      "view_permission\n",
      "view_user\n",
      "view_contenttype\n",
      "view_document\n",
      "view_session\n"
     ]
    }
   ],
   "source": [
    "from django.contrib.auth.models import Permission  # Permission Model/Class inside Auth app.\n",
    "\n",
    "# perms_qs = Permission.objects.all()  # List all permissions. \n",
    "perms_qs = Permission.objects.filter(codename__icontains=\"VIEW\") # icontains means case-insensitive containment\n",
    "print(perms_qs, type(perms_qs))  # Type - Query Set\n",
    "for obj in perms_qs:\n",
    "    print(obj.codename)\n",
    "    staff_user.user_permissions.add(obj)  # **can use .remove(obj) # ** Passing Permission object to user_permission method\n",
    "# <Permission: Administration | log entry | Can add log entry>. Permission - class, log entry - codename\n",
    "\n",
    "# ** All of the django models have permissions that come in by default"
   ]
  },
  {
   "cell_type": "code",
   "execution_count": null,
   "id": "0fe46343",
   "metadata": {},
   "outputs": [
    {
     "name": "stdout",
     "output_type": "stream",
     "text": [
      "<QuerySet [<Permission: Documents | document | Can view document>]>\n",
      "<QuerySet [<Permission: Administration | log entry | Can view log entry>, <Permission: Authentication and Authorization | group | Can view group>, <Permission: Authentication and Authorization | permission | Can view permission>, <Permission: Authentication and Authorization | user | Can view user>, <Permission: Content Types | content type | Can view content type>, <Permission: Documents | document | Can view document>, <Permission: Sessions | session | Can view session>]>\n"
     ]
    }
   ],
   "source": [
    "# perms_qs = Permission.objects.filter(xyz=\"abc\") # Gives fields available\n",
    "# Choices are: codename, content_type, content_type_id, group, id, name, user\n",
    "\n",
    "perms_qs = Permission.objects.filter(codename=\"view_document\")\n",
    "print(perms_qs)"
   ]
  },
  {
   "cell_type": "code",
   "execution_count": 22,
   "id": "a9c5e861",
   "metadata": {},
   "outputs": [],
   "source": [
    "perms_qs = Permission.objects.filter(codename__icontains=\"VIEW\")\n",
    "docs_qs = Permission.objects.filter(codename__endswith=\"document\")\n",
    "new_perm = perms_qs | docs_qs  # ** Creates new query set\n",
    "new_perm = new_perm.exclude(codename__icontains=\"delete\")\n",
    "staff_user.user_permissions.set(new_perm)  # Directly set on Query Set"
   ]
  }
 ],
 "metadata": {
  "kernelspec": {
   "display_name": "venv",
   "language": "python",
   "name": "python3"
  },
  "language_info": {
   "codemirror_mode": {
    "name": "ipython",
    "version": 3
   },
   "file_extension": ".py",
   "mimetype": "text/x-python",
   "name": "python",
   "nbconvert_exporter": "python",
   "pygments_lexer": "ipython3",
   "version": "3.13.7"
  }
 },
 "nbformat": 4,
 "nbformat_minor": 5
}
