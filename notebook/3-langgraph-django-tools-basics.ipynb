{
 "cells": [
  {
   "cell_type": "markdown",
   "id": "6408d436",
   "metadata": {},
   "source": [
    "# tool - Any external function or API the LLM can call.\n",
    "# Chain - A sequence of steps where outputs of one step become inputs to the next.\n",
    "# prompt - Instructions or context you send to the LLM.\n",
    "# LLM - It predicts the next token in text based on input.\n",
    "# Agent - A controller powered by an LLM that decides what action to take next dynamically. Agents use Tools, Chains, and LLMs under the hood.\n",
    "\n",
    "Token - A token is the smallest unit of text that an LLM processes. LLMs like GPT-4 process text in tokens, not raw characters.\n",
    "English text → 1 token ≈ 4 characters on average (roughly ¾ of a word)\n",
    "LLM cost and limits are based on token count: Every input prompt + output response consumes tokens."
   ]
  },
  {
   "cell_type": "code",
   "execution_count": 1,
   "id": "c28198a7",
   "metadata": {},
   "outputs": [],
   "source": [
    "import setup \n",
    "setup.init()"
   ]
  },
  {
   "cell_type": "code",
   "execution_count": 2,
   "id": "7603218f",
   "metadata": {},
   "outputs": [
    {
     "data": {
      "text/plain": [
       "<User: Aman>"
      ]
     },
     "execution_count": 2,
     "metadata": {},
     "output_type": "execute_result"
    }
   ],
   "source": [
    "from django.contrib.auth import get_user_model\n",
    "User = get_user_model()  \n",
    "\n",
    "User.objects.get(id=4)  "
   ]
  },
  {
   "cell_type": "code",
   "execution_count": 5,
   "id": "a93cb26c",
   "metadata": {},
   "outputs": [
    {
     "name": "stdout",
     "output_type": "stream",
     "text": [
      "{'tags': [], 'metadata': {'user_id': 4}, 'callbacks': None, 'recursion_limit': 25, 'configurable': {'user_id': 4}}\n"
     ]
    },
    {
     "data": {
      "text/plain": [
       "[{'id': 8, 'title': 'Test Doc', 'content': 'This is a testing Document'},\n",
       " {'id': 12, 'title': \"Aman's Doc\", 'content': ''}]"
      ]
     },
     "execution_count": 5,
     "metadata": {},
     "output_type": "execute_result"
    }
   ],
   "source": [
    "from ai.tools import list_documents, get_document\n",
    "\n",
    "config = {\n",
    "    \"user_id\" : 4\n",
    "}\n",
    "\n",
    "# list_documents()\n",
    "list_documents.invoke(None, config) # can be invoke (synchronously) or ainvoke ( asynchronously )\n",
    "# BaseTool.invoke() missing 1 required positional argument: 'input', As our function has no input we pass in None"
   ]
  },
  {
   "cell_type": "code",
   "execution_count": 6,
   "id": "42951b00",
   "metadata": {},
   "outputs": [
    {
     "data": {
      "text/plain": [
       "{'id': 8, 'title': 'Test Doc', 'content': 'This is a testing Document'}"
      ]
     },
     "execution_count": 6,
     "metadata": {},
     "output_type": "execute_result"
    }
   ],
   "source": [
    "# get_document(document_id=8)\n",
    "get_document.invoke({\"document_id\": 8}, config)  # Pass into tools key-value pair as dictionary"
   ]
  },
  {
   "cell_type": "markdown",
   "id": "9fbfc534",
   "metadata": {},
   "source": [
    "# We want to send these results to actual LLM, so they can act on it. Thus these functions need to be configured as Tools for Agent.\n",
    "\n",
    "# To pass user_id, we dont pass it as argument. Reasons : \n",
    "1. Security \n",
    "2. Session we create with a chat or graph with Langgraph \n",
    "\n",
    "# So we create a config dictionary, which will be passed to every tool function.\n",
    "# It doesn't become an argument but a runnable config\n",
    "\n",
    "Config can be used in the entire graph and thus each function need not be altered for arguments, tools can just use config. Example : To store SessionID, threadID."
   ]
  },
  {
   "cell_type": "code",
   "execution_count": null,
   "id": "d2334e82",
   "metadata": {},
   "outputs": [],
   "source": []
  }
 ],
 "metadata": {
  "kernelspec": {
   "display_name": "venv",
   "language": "python",
   "name": "python3"
  },
  "language_info": {
   "codemirror_mode": {
    "name": "ipython",
    "version": 3
   },
   "file_extension": ".py",
   "mimetype": "text/x-python",
   "name": "python",
   "nbconvert_exporter": "python",
   "pygments_lexer": "ipython3",
   "version": "3.13.7"
  }
 },
 "nbformat": 4,
 "nbformat_minor": 5
}
