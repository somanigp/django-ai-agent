{
 "cells": [
  {
   "cell_type": "code",
   "execution_count": 1,
   "id": "1f65771c",
   "metadata": {},
   "outputs": [],
   "source": [
    "import setup \n",
    "setup.init()"
   ]
  },
  {
   "cell_type": "code",
   "execution_count": 2,
   "id": "05ced00c",
   "metadata": {},
   "outputs": [],
   "source": [
    "from ai.llms import get_openai_model, get_google_model\n"
   ]
  },
  {
   "cell_type": "code",
   "execution_count": 3,
   "id": "0c3a3f09",
   "metadata": {},
   "outputs": [],
   "source": [
    "# model = get_openai_model()\n",
    "model = get_google_model()"
   ]
  },
  {
   "cell_type": "code",
   "execution_count": 4,
   "id": "82ee95c2",
   "metadata": {},
   "outputs": [
    {
     "data": {
      "text/plain": [
       "AIMessage(content='I am a large language model, trained by Google.', additional_kwargs={}, response_metadata={'prompt_feedback': {'block_reason': 0, 'safety_ratings': []}, 'finish_reason': 'STOP', 'model_name': 'gemini-2.0-flash-lite', 'safety_ratings': []}, id='run--8d854ab5-c1e7-42bd-af2a-87ff2211f97c-0', usage_metadata={'input_tokens': 4, 'output_tokens': 12, 'total_tokens': 16, 'input_token_details': {'cache_read': 0}})"
      ]
     },
     "execution_count": 4,
     "metadata": {},
     "output_type": "execute_result"
    }
   ],
   "source": [
    "messages = [\n",
    "    (\n",
    "        \"system\",\n",
    "        \"You are a helpful translator. Translate the user sentence to French.\",\n",
    "    ),\n",
    "    (\"human\", \"I love programming.\"),\n",
    "]\n",
    "model.invoke(\"Who are you?\")"
   ]
  }
 ],
 "metadata": {
  "kernelspec": {
   "display_name": "venv",
   "language": "python",
   "name": "python3"
  },
  "language_info": {
   "codemirror_mode": {
    "name": "ipython",
    "version": 3
   },
   "file_extension": ".py",
   "mimetype": "text/x-python",
   "name": "python",
   "nbconvert_exporter": "python",
   "pygments_lexer": "ipython3",
   "version": "3.13.7"
  }
 },
 "nbformat": 4,
 "nbformat_minor": 5
}
