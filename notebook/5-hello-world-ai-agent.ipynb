{
 "cells": [
  {
   "cell_type": "code",
   "execution_count": 1,
   "id": "52dc5da3",
   "metadata": {},
   "outputs": [],
   "source": [
    "import setup \n",
    "setup.init()"
   ]
  },
  {
   "cell_type": "code",
   "execution_count": 2,
   "id": "b9572c13",
   "metadata": {},
   "outputs": [],
   "source": [
    "from ai.agents import get_document_agent\n",
    "\n",
    "\n",
    "agent = get_document_agent()"
   ]
  },
  {
   "cell_type": "code",
   "execution_count": 5,
   "id": "baa020cb",
   "metadata": {},
   "outputs": [],
   "source": [
    "import uuid\n",
    "\n",
    "# Config - Passes through the whole chain, all tools can access this.\n",
    "config = {\n",
    "    \"configurable\": {\n",
    "        \"user_id\": \"4\",\n",
    "        \"thread_id\": uuid.uuid4()\n",
    "    }\n",
    "}"
   ]
  },
  {
   "cell_type": "code",
   "execution_count": 7,
   "id": "1b10f6bf",
   "metadata": {},
   "outputs": [],
   "source": [
    "# Agent Input \n",
    "response = agent.invoke(\n",
    "    {\n",
    "        \"messages\" : [{\n",
    "            \"role\": \"user\",\n",
    "            \"content\": \"what are my recent documents?\"\n",
    "        }]\n",
    "    },\n",
    "    config\n",
    ")"
   ]
  },
  {
   "cell_type": "code",
   "execution_count": 12,
   "id": "703e0bb1",
   "metadata": {},
   "outputs": [
    {
     "name": "stdout",
     "output_type": "stream",
     "text": [
      "what are my recent documents?\n",
      "\n",
      "[{\"id\": 12, \"title\": \"Aman's Doc\", \"content\": \"\"}, {\"id\": 8, \"title\": \"Test Doc\", \"content\": \"This is a testing Document\"}]\n",
      "Your recent documents are:\n",
      "- ID: 12, Title: Aman's Doc\n",
      "- ID: 8, Title: Test Doc\n",
      "\n",
      "Your recent documents are:\n",
      "- ID: 12, Title: Aman's Doc\n",
      "- ID: 8, Title: Test Doc\n"
     ]
    }
   ],
   "source": [
    "for msg in response['messages']:\n",
    "    print(msg.content)\n",
    "\n",
    "print()\n",
    "print(response['messages'][-1].content)"
   ]
  }
 ],
 "metadata": {
  "kernelspec": {
   "display_name": "venv",
   "language": "python",
   "name": "python3"
  },
  "language_info": {
   "codemirror_mode": {
    "name": "ipython",
    "version": 3
   },
   "file_extension": ".py",
   "mimetype": "text/x-python",
   "name": "python",
   "nbconvert_exporter": "python",
   "pygments_lexer": "ipython3",
   "version": "3.13.7"
  }
 },
 "nbformat": 4,
 "nbformat_minor": 5
}
