{
 "cells": [
  {
   "cell_type": "code",
   "execution_count": 1,
   "id": "e556dcfb",
   "metadata": {},
   "outputs": [],
   "source": [
    "import setup \n",
    "setup.init()"
   ]
  },
  {
   "cell_type": "code",
   "execution_count": 2,
   "id": "838490bc",
   "metadata": {},
   "outputs": [],
   "source": [
    "from ai.agents import get_document_agent\n",
    "\n",
    "from langgraph.checkpoint.memory import InMemorySaver  # Can have other checkpointers - Redis Checkpointer - RedisMemorySaver, etc.\n",
    "# Can store in django models, etc for long run.\n",
    "\n",
    "checkpointer = InMemorySaver()\n",
    "\n",
    "agent = get_document_agent(model=\"gemini-2.0-flash-lite\", checkpointer=checkpointer)"
   ]
  },
  {
   "cell_type": "code",
   "execution_count": 3,
   "id": "ff0777b4",
   "metadata": {},
   "outputs": [],
   "source": [
    "import uuid\n",
    "\n",
    "# Config - Passes through the whole chain, all tools can access this.\n",
    "config = {\n",
    "    \"configurable\": {\n",
    "        \"user_id\": \"3\",\n",
    "        \"thread_id\": uuid.uuid4()\n",
    "    }\n",
    "}"
   ]
  },
  {
   "cell_type": "code",
   "execution_count": 4,
   "id": "c0e253e6",
   "metadata": {},
   "outputs": [],
   "source": [
    "# Agent Input \n",
    "response = agent.invoke(\n",
    "    {\n",
    "        \"messages\" : [{\n",
    "            \"role\": \"user\",\n",
    "            \"content\": \"what are my recent documents?\"\n",
    "        }]\n",
    "    },\n",
    "    config\n",
    ")"
   ]
  },
  {
   "cell_type": "code",
   "execution_count": 5,
   "id": "d1e8d795",
   "metadata": {},
   "outputs": [
    {
     "name": "stdout",
     "output_type": "stream",
     "text": [
      "Here are your most recent documents: Untitled, Untitled, Untitled, Second Document, and Hellow World!!.\n"
     ]
    }
   ],
   "source": [
    "print(response['messages'][-1].content)"
   ]
  },
  {
   "cell_type": "code",
   "execution_count": 6,
   "id": "cc1cab2b",
   "metadata": {},
   "outputs": [
    {
     "name": "stdout",
     "output_type": "stream",
     "text": [
      "Yes, there are three documents titled \"Untitled\".\n"
     ]
    }
   ],
   "source": [
    "# Agent Input \n",
    "response = agent.invoke(\n",
    "    {\n",
    "        \"messages\" : [{\n",
    "            \"role\": \"user\",\n",
    "            \"content\": \"Are there duplicates\"\n",
    "        }]\n",
    "    },\n",
    "    config\n",
    ")\n",
    "print(response['messages'][-1].content)"
   ]
  },
  {
   "cell_type": "code",
   "execution_count": 7,
   "id": "8a0c9b12",
   "metadata": {},
   "outputs": [
    {
     "name": "stdout",
     "output_type": "stream",
     "text": [
      "The first Mission: Impossible movie, released in 1996, stars Tom Cruise as Ethan Hunt, an IMF agent. The plot involves Hunt and his team going undercover to prevent the theft of the NOC list, a list of every agent and spy in the IMF. During a mission, Hunt's team is ambushed, and he and Claire Phelps are the only survivors. Hunt then goes on a mission to uncover the mole and clear his name.\n"
     ]
    }
   ],
   "source": [
    "# Agent Input \n",
    "response = agent.invoke(\n",
    "    {\n",
    "        \"messages\" : [{\n",
    "            \"role\": \"user\",\n",
    "            \"content\": \"First mission impossible movie and its plot\"\n",
    "        }]\n",
    "    },\n",
    "    config\n",
    ")\n",
    "print(response['messages'][-1].content)"
   ]
  }
 ],
 "metadata": {
  "kernelspec": {
   "display_name": "venv",
   "language": "python",
   "name": "python3"
  },
  "language_info": {
   "codemirror_mode": {
    "name": "ipython",
    "version": 3
   },
   "file_extension": ".py",
   "mimetype": "text/x-python",
   "name": "python",
   "nbconvert_exporter": "python",
   "pygments_lexer": "ipython3",
   "version": "3.13.7"
  }
 },
 "nbformat": 4,
 "nbformat_minor": 5
}
