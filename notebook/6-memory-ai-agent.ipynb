{
 "cells": [
  {
   "cell_type": "code",
   "execution_count": 1,
   "id": "e556dcfb",
   "metadata": {},
   "outputs": [],
   "source": [
    "import setup \n",
    "setup.init()"
   ]
  },
  {
   "cell_type": "code",
   "execution_count": 2,
   "id": "838490bc",
   "metadata": {},
   "outputs": [],
   "source": [
    "from ai.agents import get_document_agent\n",
    "\n",
    "from langgraph.checkpoint.memory import InMemorySaver  # Can have other checkpointers - Redis Checkpointer - RedisMemorySaver, etc.\n",
    "# Can store in django models, etc for long run.\n",
    "\n",
    "checkpointer = InMemorySaver()\n",
    "\n",
    "agent = get_document_agent(model=\"gemini-2.0-flash-lite\", checkpointer=checkpointer)"
   ]
  },
  {
   "cell_type": "code",
   "execution_count": 3,
   "id": "ff0777b4",
   "metadata": {},
   "outputs": [],
   "source": [
    "import uuid\n",
    "\n",
    "# Config - Passes through the whole chain, all tools can access this.\n",
    "config = {\n",
    "    \"configurable\": {\n",
    "        \"user_id\": \"3\",\n",
    "        \"thread_id\": uuid.uuid4()\n",
    "    }\n",
    "}"
   ]
  },
  {
   "cell_type": "code",
   "execution_count": 4,
   "id": "c0e253e6",
   "metadata": {},
   "outputs": [],
   "source": [
    "# Agent Input \n",
    "response = agent.invoke(\n",
    "    {\n",
    "        \"messages\" : [{\n",
    "            \"role\": \"user\",\n",
    "            \"content\": \"what are my recent documents?\"\n",
    "        }]\n",
    "    },\n",
    "    config\n",
    ")"
   ]
  },
  {
   "cell_type": "code",
   "execution_count": 5,
   "id": "d1e8d795",
   "metadata": {},
   "outputs": [
    {
     "name": "stdout",
     "output_type": "stream",
     "text": [
      "Here are your most recent documents:\n",
      "*   **Untitled** with ID 11\n",
      "*   **Untitled** with ID 10\n",
      "*   **Untitled** with ID 9\n",
      "*   **Second Document** with ID 7\n",
      "*   **Hellow World!!** with ID 5\n"
     ]
    }
   ],
   "source": [
    "print(response['messages'][-1].content)"
   ]
  },
  {
   "cell_type": "code",
   "execution_count": 6,
   "id": "cc1cab2b",
   "metadata": {},
   "outputs": [
    {
     "name": "stdout",
     "output_type": "stream",
     "text": [
      "Yes, there are three documents with the title \"Untitled\".\n"
     ]
    }
   ],
   "source": [
    "# Agent Input \n",
    "response = agent.invoke(\n",
    "    {\n",
    "        \"messages\" : [{\n",
    "            \"role\": \"user\",\n",
    "            \"content\": \"Are there duplicates\"\n",
    "        }]\n",
    "    },\n",
    "    config\n",
    ")\n",
    "print(response['messages'][-1].content)"
   ]
  }
 ],
 "metadata": {
  "kernelspec": {
   "display_name": "venv",
   "language": "python",
   "name": "python3"
  },
  "language_info": {
   "codemirror_mode": {
    "name": "ipython",
    "version": 3
   },
   "file_extension": ".py",
   "mimetype": "text/x-python",
   "name": "python",
   "nbconvert_exporter": "python",
   "pygments_lexer": "ipython3",
   "version": "3.13.7"
  }
 },
 "nbformat": 4,
 "nbformat_minor": 5
}
